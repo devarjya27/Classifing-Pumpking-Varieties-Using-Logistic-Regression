{
 "cells": [
  {
   "cell_type": "markdown",
   "metadata": {},
   "source": [
    "## Importing Necessary Libraries"
   ]
  },
  {
   "cell_type": "code",
   "execution_count": 840,
   "metadata": {},
   "outputs": [],
   "source": [
    "import pandas as pd\n",
    "import numpy as np\n",
    "import matplotlib.pyplot as plt\n",
    "import seaborn as sns"
   ]
  },
  {
   "cell_type": "markdown",
   "metadata": {},
   "source": [
    "## Loading Training and Testing Datasets"
   ]
  },
  {
   "cell_type": "code",
   "execution_count": 841,
   "metadata": {},
   "outputs": [
    {
     "name": "stdout",
     "output_type": "stream",
     "text": [
      "Area                   int64\n",
      "Perimeter            float64\n",
      "Major_Axis_Length    float64\n",
      "Minor_Axis_Length    float64\n",
      "Convex_Area            int64\n",
      "Equiv_Diameter       float64\n",
      "Eccentricity         float64\n",
      "Solidity             float64\n",
      "Extent               float64\n",
      "Roundness            float64\n",
      "Aspect_Ration        float64\n",
      "Compactness          float64\n",
      "Class                 object\n",
      "dtype: object\n"
     ]
    }
   ],
   "source": [
    "training_data = pd.read_csv(\"Gotem_Pumpkins.csv\")\n",
    "\n",
    "training_data = training_data.drop(\"Unnamed: 0\", axis = 1)\n",
    "training_data = training_data.dropna()\n",
    "print(training_data.dtypes)"
   ]
  },
  {
   "cell_type": "code",
   "execution_count": 842,
   "metadata": {},
   "outputs": [],
   "source": [
    "testing_data = pd.read_csv(\"Freyja_Pumpkins.csv\")\n",
    "\n",
    "testing_data = testing_data.drop(\"Unnamed: 0\", axis = 1)\n",
    "testing_data = testing_data.dropna()"
   ]
  },
  {
   "cell_type": "markdown",
   "metadata": {},
   "source": [
    "## Z-Score Normalization of Training and Testing Datasets"
   ]
  },
  {
   "cell_type": "code",
   "execution_count": 843,
   "metadata": {},
   "outputs": [
    {
     "data": {
      "text/html": [
       "<div>\n",
       "<style scoped>\n",
       "    .dataframe tbody tr th:only-of-type {\n",
       "        vertical-align: middle;\n",
       "    }\n",
       "\n",
       "    .dataframe tbody tr th {\n",
       "        vertical-align: top;\n",
       "    }\n",
       "\n",
       "    .dataframe thead th {\n",
       "        text-align: right;\n",
       "    }\n",
       "</style>\n",
       "<table border=\"1\" class=\"dataframe\">\n",
       "  <thead>\n",
       "    <tr style=\"text-align: right;\">\n",
       "      <th></th>\n",
       "      <th>Area</th>\n",
       "      <th>Perimeter</th>\n",
       "      <th>Major_Axis_Length</th>\n",
       "      <th>Minor_Axis_Length</th>\n",
       "      <th>Convex_Area</th>\n",
       "      <th>Equiv_Diameter</th>\n",
       "      <th>Eccentricity</th>\n",
       "      <th>Solidity</th>\n",
       "      <th>Extent</th>\n",
       "      <th>Roundness</th>\n",
       "      <th>Aspect_Ration</th>\n",
       "      <th>Compactness</th>\n",
       "      <th>Class</th>\n",
       "    </tr>\n",
       "  </thead>\n",
       "  <tbody>\n",
       "    <tr>\n",
       "      <th>0</th>\n",
       "      <td>0.312590</td>\n",
       "      <td>0.678541</td>\n",
       "      <td>0.925767</td>\n",
       "      <td>-0.547452</td>\n",
       "      <td>0.301773</td>\n",
       "      <td>0.353448</td>\n",
       "      <td>1.054758</td>\n",
       "      <td>0.542376</td>\n",
       "      <td>-2.426213</td>\n",
       "      <td>-1.003730</td>\n",
       "      <td>1.102919</td>\n",
       "      <td>-1.096586</td>\n",
       "      <td>0</td>\n",
       "    </tr>\n",
       "    <tr>\n",
       "      <th>1</th>\n",
       "      <td>1.654705</td>\n",
       "      <td>1.326229</td>\n",
       "      <td>1.150884</td>\n",
       "      <td>1.173670</td>\n",
       "      <td>1.640110</td>\n",
       "      <td>1.607981</td>\n",
       "      <td>0.299892</td>\n",
       "      <td>0.762329</td>\n",
       "      <td>0.855600</td>\n",
       "      <td>0.130910</td>\n",
       "      <td>0.063273</td>\n",
       "      <td>-0.158400</td>\n",
       "      <td>0</td>\n",
       "    </tr>\n",
       "    <tr>\n",
       "      <th>2</th>\n",
       "      <td>1.290768</td>\n",
       "      <td>1.273893</td>\n",
       "      <td>1.235477</td>\n",
       "      <td>0.550975</td>\n",
       "      <td>1.280247</td>\n",
       "      <td>1.279676</td>\n",
       "      <td>0.679572</td>\n",
       "      <td>0.597365</td>\n",
       "      <td>-1.700060</td>\n",
       "      <td>-0.441830</td>\n",
       "      <td>0.524170</td>\n",
       "      <td>-0.597997</td>\n",
       "      <td>0</td>\n",
       "    </tr>\n",
       "    <tr>\n",
       "      <th>3</th>\n",
       "      <td>-0.810857</td>\n",
       "      <td>-0.646874</td>\n",
       "      <td>-0.475723</td>\n",
       "      <td>-0.815181</td>\n",
       "      <td>-0.796343</td>\n",
       "      <td>-0.806050</td>\n",
       "      <td>0.347071</td>\n",
       "      <td>-0.887318</td>\n",
       "      <td>-0.530239</td>\n",
       "      <td>-0.235861</td>\n",
       "      <td>0.115191</td>\n",
       "      <td>-0.225006</td>\n",
       "      <td>1</td>\n",
       "    </tr>\n",
       "    <tr>\n",
       "      <th>4</th>\n",
       "      <td>-0.045954</td>\n",
       "      <td>0.481882</td>\n",
       "      <td>0.803601</td>\n",
       "      <td>-0.904627</td>\n",
       "      <td>-0.042963</td>\n",
       "      <td>-0.004226</td>\n",
       "      <td>1.164843</td>\n",
       "      <td>-0.117482</td>\n",
       "      <td>0.717681</td>\n",
       "      <td>-1.314491</td>\n",
       "      <td>1.303267</td>\n",
       "      <td>-1.294500</td>\n",
       "      <td>0</td>\n",
       "    </tr>\n",
       "  </tbody>\n",
       "</table>\n",
       "</div>"
      ],
      "text/plain": [
       "       Area  Perimeter  Major_Axis_Length  Minor_Axis_Length  Convex_Area  \\\n",
       "0  0.312590   0.678541           0.925767          -0.547452     0.301773   \n",
       "1  1.654705   1.326229           1.150884           1.173670     1.640110   \n",
       "2  1.290768   1.273893           1.235477           0.550975     1.280247   \n",
       "3 -0.810857  -0.646874          -0.475723          -0.815181    -0.796343   \n",
       "4 -0.045954   0.481882           0.803601          -0.904627    -0.042963   \n",
       "\n",
       "   Equiv_Diameter  Eccentricity  Solidity    Extent  Roundness  Aspect_Ration  \\\n",
       "0        0.353448      1.054758  0.542376 -2.426213  -1.003730       1.102919   \n",
       "1        1.607981      0.299892  0.762329  0.855600   0.130910       0.063273   \n",
       "2        1.279676      0.679572  0.597365 -1.700060  -0.441830       0.524170   \n",
       "3       -0.806050      0.347071 -0.887318 -0.530239  -0.235861       0.115191   \n",
       "4       -0.004226      1.164843 -0.117482  0.717681  -1.314491       1.303267   \n",
       "\n",
       "   Compactness  Class  \n",
       "0    -1.096586      0  \n",
       "1    -0.158400      0  \n",
       "2    -0.597997      0  \n",
       "3    -0.225006      1  \n",
       "4    -1.294500      0  "
      ]
     },
     "execution_count": 843,
     "metadata": {},
     "output_type": "execute_result"
    }
   ],
   "source": [
    "training_data['Class'] = training_data['Class'].map({'Ürgüp Sivrisi': 0, 'Çerçevelik': 1})\n",
    "training_numerical_features = training_data.columns.drop('Class')\n",
    "training_data[training_numerical_features] = (training_data[training_numerical_features] - training_data[training_numerical_features].mean()) / training_data[training_numerical_features].std()\n",
    "training_data.head()"
   ]
  },
  {
   "cell_type": "code",
   "execution_count": 844,
   "metadata": {},
   "outputs": [
    {
     "data": {
      "text/html": [
       "<div>\n",
       "<style scoped>\n",
       "    .dataframe tbody tr th:only-of-type {\n",
       "        vertical-align: middle;\n",
       "    }\n",
       "\n",
       "    .dataframe tbody tr th {\n",
       "        vertical-align: top;\n",
       "    }\n",
       "\n",
       "    .dataframe thead th {\n",
       "        text-align: right;\n",
       "    }\n",
       "</style>\n",
       "<table border=\"1\" class=\"dataframe\">\n",
       "  <thead>\n",
       "    <tr style=\"text-align: right;\">\n",
       "      <th></th>\n",
       "      <th>Area</th>\n",
       "      <th>Perimeter</th>\n",
       "      <th>Major_Axis_Length</th>\n",
       "      <th>Minor_Axis_Length</th>\n",
       "      <th>Convex_Area</th>\n",
       "      <th>Equiv_Diameter</th>\n",
       "      <th>Eccentricity</th>\n",
       "      <th>Solidity</th>\n",
       "      <th>Extent</th>\n",
       "      <th>Roundness</th>\n",
       "      <th>Aspect_Ration</th>\n",
       "      <th>Compactness</th>\n",
       "      <th>Class</th>\n",
       "    </tr>\n",
       "  </thead>\n",
       "  <tbody>\n",
       "    <tr>\n",
       "      <th>0</th>\n",
       "      <td>-1.316443</td>\n",
       "      <td>-1.551248</td>\n",
       "      <td>-1.518479</td>\n",
       "      <td>-0.400523</td>\n",
       "      <td>-1.330276</td>\n",
       "      <td>-1.374056</td>\n",
       "      <td>-0.990745</td>\n",
       "      <td>0.828885</td>\n",
       "      <td>0.642669</td>\n",
       "      <td>1.107173</td>\n",
       "      <td>-1.000346</td>\n",
       "      <td>1.040843</td>\n",
       "      <td>1</td>\n",
       "    </tr>\n",
       "    <tr>\n",
       "      <th>1</th>\n",
       "      <td>-0.357328</td>\n",
       "      <td>-0.558725</td>\n",
       "      <td>-0.646806</td>\n",
       "      <td>0.187740</td>\n",
       "      <td>-0.364508</td>\n",
       "      <td>-0.326160</td>\n",
       "      <td>-0.498423</td>\n",
       "      <td>0.405841</td>\n",
       "      <td>0.377225</td>\n",
       "      <td>0.713802</td>\n",
       "      <td>-0.670772</td>\n",
       "      <td>0.630977</td>\n",
       "      <td>1</td>\n",
       "    </tr>\n",
       "    <tr>\n",
       "      <th>2</th>\n",
       "      <td>-0.352051</td>\n",
       "      <td>-0.352084</td>\n",
       "      <td>-0.158308</td>\n",
       "      <td>-0.370701</td>\n",
       "      <td>-0.367973</td>\n",
       "      <td>-0.320655</td>\n",
       "      <td>0.301863</td>\n",
       "      <td>0.969900</td>\n",
       "      <td>0.293980</td>\n",
       "      <td>0.140064</td>\n",
       "      <td>0.061135</td>\n",
       "      <td>-0.181502</td>\n",
       "      <td>0</td>\n",
       "    </tr>\n",
       "    <tr>\n",
       "      <th>3</th>\n",
       "      <td>0.389617</td>\n",
       "      <td>0.352048</td>\n",
       "      <td>0.406138</td>\n",
       "      <td>0.129521</td>\n",
       "      <td>0.401723</td>\n",
       "      <td>0.429394</td>\n",
       "      <td>0.383567</td>\n",
       "      <td>-0.616517</td>\n",
       "      <td>0.947380</td>\n",
       "      <td>-0.029996</td>\n",
       "      <td>0.155167</td>\n",
       "      <td>-0.261299</td>\n",
       "      <td>1</td>\n",
       "    </tr>\n",
       "    <tr>\n",
       "      <th>4</th>\n",
       "      <td>0.346366</td>\n",
       "      <td>0.071936</td>\n",
       "      <td>-0.325255</td>\n",
       "      <td>0.952048</td>\n",
       "      <td>0.348208</td>\n",
       "      <td>0.386891</td>\n",
       "      <td>-0.766581</td>\n",
       "      <td>-0.052458</td>\n",
       "      <td>0.315969</td>\n",
       "      <td>0.612453</td>\n",
       "      <td>-0.859452</td>\n",
       "      <td>0.859486</td>\n",
       "      <td>1</td>\n",
       "    </tr>\n",
       "  </tbody>\n",
       "</table>\n",
       "</div>"
      ],
      "text/plain": [
       "       Area  Perimeter  Major_Axis_Length  Minor_Axis_Length  Convex_Area  \\\n",
       "0 -1.316443  -1.551248          -1.518479          -0.400523    -1.330276   \n",
       "1 -0.357328  -0.558725          -0.646806           0.187740    -0.364508   \n",
       "2 -0.352051  -0.352084          -0.158308          -0.370701    -0.367973   \n",
       "3  0.389617   0.352048           0.406138           0.129521     0.401723   \n",
       "4  0.346366   0.071936          -0.325255           0.952048     0.348208   \n",
       "\n",
       "   Equiv_Diameter  Eccentricity  Solidity    Extent  Roundness  Aspect_Ration  \\\n",
       "0       -1.374056     -0.990745  0.828885  0.642669   1.107173      -1.000346   \n",
       "1       -0.326160     -0.498423  0.405841  0.377225   0.713802      -0.670772   \n",
       "2       -0.320655      0.301863  0.969900  0.293980   0.140064       0.061135   \n",
       "3        0.429394      0.383567 -0.616517  0.947380  -0.029996       0.155167   \n",
       "4        0.386891     -0.766581 -0.052458  0.315969   0.612453      -0.859452   \n",
       "\n",
       "   Compactness  Class  \n",
       "0     1.040843      1  \n",
       "1     0.630977      1  \n",
       "2    -0.181502      0  \n",
       "3    -0.261299      1  \n",
       "4     0.859486      1  "
      ]
     },
     "execution_count": 844,
     "metadata": {},
     "output_type": "execute_result"
    }
   ],
   "source": [
    "testing_data['Class'] = testing_data['Class'].map({'Ürgüp Sivrisi': 0, 'Çerçevelik': 1})\n",
    "testing_numerical_features = testing_data.columns.drop('Class')\n",
    "testing_data[testing_numerical_features] = (testing_data[testing_numerical_features] - testing_data[testing_numerical_features].mean()) / testing_data[testing_numerical_features].std()\n",
    "testing_data.head()"
   ]
  },
  {
   "cell_type": "code",
   "execution_count": 845,
   "metadata": {},
   "outputs": [
    {
     "name": "stdout",
     "output_type": "stream",
     "text": [
      "Shape of X_standarized: (2000, 12)\n",
      "Shape of Y_standarized: (2000,)\n"
     ]
    }
   ],
   "source": [
    "X_train = training_data.drop('Class', axis=1).values.astype('float64')\n",
    "y_train = training_data['Class'].values.astype('float64')\n",
    "\n",
    "X_test = testing_data.drop('Class', axis=1).values.astype('float64')\n",
    "y_test = testing_data['Class'].values.astype('float64')\n",
    "\n",
    "print(\"Shape of X_standarized:\", X_train.shape)\n",
    "print(\"Shape of Y_standarized:\", y_train.shape)"
   ]
  },
  {
   "cell_type": "markdown",
   "metadata": {},
   "source": [
    "## Training The Model"
   ]
  },
  {
   "cell_type": "code",
   "execution_count": 846,
   "metadata": {},
   "outputs": [],
   "source": [
    "def sigmoid(z):\n",
    "    return 1 / (1 + np.exp(-z))"
   ]
  },
  {
   "cell_type": "code",
   "execution_count": 847,
   "metadata": {},
   "outputs": [],
   "source": [
    "def logistic_regression(X, y, learning_rate=0.006, iterations=5000):\n",
    "    m, n = X.shape\n",
    "    weights = np.zeros(n)\n",
    "    bias = 0\n",
    "    for i in range(iterations):\n",
    "        linear_model = np.dot(X, weights) + bias\n",
    "        y_pred = sigmoid(linear_model)\n",
    "        \n",
    "        # Gradients\n",
    "        dw = (1/m) * np.dot(X.T, (y_pred - y))\n",
    "        db = (1/m) * np.sum(y_pred - y)\n",
    "        \n",
    "        # Update parameters\n",
    "        weights -= learning_rate * dw\n",
    "        bias -= learning_rate * db\n",
    "    return weights, bias"
   ]
  },
  {
   "cell_type": "code",
   "execution_count": 848,
   "metadata": {},
   "outputs": [],
   "source": [
    "weights, bias = logistic_regression(X_train, y_train)"
   ]
  },
  {
   "cell_type": "markdown",
   "metadata": {},
   "source": [
    "## Making Predictions"
   ]
  },
  {
   "cell_type": "code",
   "execution_count": 849,
   "metadata": {},
   "outputs": [],
   "source": [
    "def predict(X, weights, bias):\n",
    "    linear_model = np.dot(X, weights) + bias\n",
    "    y_pred = sigmoid(linear_model)\n",
    "    return [1 if i > 0.488 else 0 for i in y_pred]"
   ]
  },
  {
   "cell_type": "code",
   "execution_count": 850,
   "metadata": {},
   "outputs": [],
   "source": [
    "y_pred_train = predict(X_train, weights, bias)\n",
    "y_pred_test = predict(X_test, weights, bias)"
   ]
  },
  {
   "cell_type": "markdown",
   "metadata": {},
   "source": [
    "## Printing Accuracy"
   ]
  },
  {
   "cell_type": "code",
   "execution_count": 851,
   "metadata": {},
   "outputs": [
    {
     "name": "stdout",
     "output_type": "stream",
     "text": [
      "Train Accuracy: 87.30%\n",
      "Test Accuracy: 89.20%\n"
     ]
    }
   ],
   "source": [
    "train_accuracy = np.mean(y_pred_train == y_train) * 100\n",
    "test_accuracy = np.mean(y_pred_test == y_test) * 100\n",
    "print(f\"Train Accuracy: {train_accuracy:.2f}%\")\n",
    "print(f\"Test Accuracy: {test_accuracy:.2f}%\")"
   ]
  },
  {
   "cell_type": "markdown",
   "metadata": {},
   "source": [
    "## Visualizing Predictions vs Actual Classes through Confusion Matrix"
   ]
  },
  {
   "cell_type": "code",
   "execution_count": 852,
   "metadata": {},
   "outputs": [],
   "source": [
    "def create_confusion_matrix(y_true, y_pred):\n",
    "    # Convert inputs to numpy arrays to ensure consistent handling\n",
    "    y_true = np.array(y_true).astype(int)\n",
    "    y_pred = np.array(y_pred).astype(int)\n",
    "    \n",
    "    # Initialize 2x2 matrix with zeros\n",
    "    confusion_matrix = np.zeros((2, 2), dtype=int)\n",
    "    \n",
    "    # Calculate confusion matrix values\n",
    "    for true, pred in zip(y_true, y_pred):\n",
    "        confusion_matrix[int(true)][int(pred)] += 1\n",
    "    \n",
    "    return confusion_matrix"
   ]
  },
  {
   "cell_type": "code",
   "execution_count": 853,
   "metadata": {},
   "outputs": [
    {
     "data": {
      "image/png": "[encoded data removed]",
      "text/plain": [
       "<Figure size 1000x800 with 2 Axes>"
      ]
     },
     "metadata": {},
     "output_type": "display_data"
    }
   ],
   "source": [
    "def plot_confusion_matrix(confusion_matrix, title=\"Confusion Matrix\"):\n",
    "    # Set the style\n",
    "    sns.set_style(\"whitegrid\")\n",
    "    \n",
    "    # Create figure with specified size\n",
    "    plt.figure(figsize=(10, 8))\n",
    "    \n",
    "    # Create annotation text with both counts and percentages\n",
    "    total = np.sum(confusion_matrix)\n",
    "    annot_labels = np.array([[f'{val}\\n({val/total*100:.1f}%)' \n",
    "                             for val in row] for row in confusion_matrix])\n",
    "    blues_palette = sns.color_palette(\"Blues\", as_cmap=True)\n",
    "    # Create heatmap with enhanced styling\n",
    "    ax = sns.heatmap(confusion_matrix,\n",
    "                     annot=annot_labels,\n",
    "                     fmt='',\n",
    "                     cmap=blues_palette,  # Using a different colormap for better contrast\n",
    "                     square=True,     # Make cells square\n",
    "                     cbar_kws={'label': 'Count'},\n",
    "                     xticklabels=['Predicted Ürgüp Sivrisi', 'Predicted Çerçevelik'],\n",
    "                     yticklabels=['Actual Ürgüp Sivrisi', 'Actual Çerçevelik'])\n",
    "    \n",
    "    # Rotate x-axis labels for better readability\n",
    "    plt.xticks(rotation=45, ha='right')\n",
    "    plt.yticks(rotation=0)\n",
    "    \n",
    "    # Add title with custom styling\n",
    "    plt.title(title, pad=20, size=14, fontweight='bold')\n",
    "    \n",
    "    # Adjust labels\n",
    "    plt.ylabel('Actuals', labelpad=10)\n",
    "    plt.xlabel('Predictions', labelpad=10)\n",
    "    \n",
    "    # Ensure layout fits properly\n",
    "    plt.tight_layout()\n",
    "    \n",
    "    return plt\n",
    "\n",
    "# Calculate and plot confusion matrix\n",
    "conf_matrix_test = create_confusion_matrix(y_test, y_pred_test)\n",
    "plot_confusion_matrix(conf_matrix_test, \"Confusion Matrix for Pumpkin Classification\")\n",
    "plt.show()"
   ]
  }
 ],
 "metadata": {
  "kernelspec": {
   "display_name": "Python 3",
   "language": "python",
   "name": "python3"
  },
  "language_info": {
   "codemirror_mode": {
    "name": "ipython",
    "version": 3
   },
   "file_extension": ".py",
   "mimetype": "text/x-python",
   "name": "python",
   "nbconvert_exporter": "python",
   "pygments_lexer": "ipython3",
   "version": "3.10.12"
  }
 },
 "nbformat": 4,
 "nbformat_minor": 2
}
